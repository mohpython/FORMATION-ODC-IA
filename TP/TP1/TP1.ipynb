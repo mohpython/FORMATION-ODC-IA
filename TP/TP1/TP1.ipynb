{
 "cells": [
  {
   "cell_type": "code",
   "execution_count": null,
   "id": "c5276334",
   "metadata": {},
   "outputs": [],
   "source": [
    "import numpy as np\n",
    "import random"
   ]
  },
  {
   "cell_type": "markdown",
   "id": "a066ffbc",
   "metadata": {},
   "source": [
    "# Exercice1"
   ]
  },
  {
   "cell_type": "code",
   "execution_count": 13,
   "id": "92a10ef6",
   "metadata": {},
   "outputs": [
    {
     "name": "stdout",
     "output_type": "stream",
     "text": [
      "Veuillez saisir un entier naturel quelconque: 2\n"
     ]
    },
    {
     "data": {
      "text/plain": [
       "1.1630228414969253"
      ]
     },
     "execution_count": 13,
     "metadata": {},
     "output_type": "execute_result"
    }
   ],
   "source": [
    "#PROCEDURALE\n",
    "N= input(\"Veuillez saisir un entier naturel quelconque: \")\n",
    "\n",
    "try : \n",
    "    v= int(N)\n",
    "    if v >0 :\n",
    "        N= v\n",
    "    else :\n",
    "        print(\"Saisie Incorrecte\")\n",
    "except: \n",
    "       print(\"Saisie incorrecte\")\n",
    "        \n",
    "R=0\n",
    "f= lambda x: x/(x**2+1) \n",
    "g= lambda x: np.arctan(x)\n",
    "\n",
    "\n",
    "def calcul_R(n):\n",
    "    L = list(range(-N,N+1))\n",
    "    return sum([((x/(x**2+1))-(np.arctan(x)))**2 for x in L])\n",
    "\n",
    "\n",
    "   \n",
    "calcul_R(n)"
   ]
  },
  {
   "cell_type": "code",
   "execution_count": 14,
   "id": "d030fe99",
   "metadata": {},
   "outputs": [],
   "source": [
    "#poo\n",
    "class Exo1:\n",
    "    def __init__(self):\n",
    "        v= input(\"Veuillez saisir un entier naturel quelconque: \")\n",
    "        try : \n",
    "            v= int(N)\n",
    "            if v > 0 :\n",
    "                self.N= v\n",
    "            else :\n",
    "                print(\"Saisie Incorrecte\")\n",
    "          \n",
    "        except: \n",
    "              print(\"Saisie incorrecte\")\n",
    "\n",
    "    def f(self, x): \n",
    "        return x/(x**2+1)\n",
    "\n",
    "    def g(self, x):\n",
    "        return np.arctan(x)\n",
    "\n",
    "    def calcul_R(self):\n",
    "        L = list(range(-self.N, self.N+1))\n",
    "        return sum([((x/(x**2+1))-(np.arctan(x)))**2 for x in L])\n",
    "\n",
    "\n"
   ]
  },
  {
   "cell_type": "code",
   "execution_count": 15,
   "id": "22a0f1cb",
   "metadata": {},
   "outputs": [
    {
     "name": "stdout",
     "output_type": "stream",
     "text": [
      "Veuillez saisir un entier naturel quelconque: 2\n"
     ]
    }
   ],
   "source": [
    "ex1=Exo1()"
   ]
  },
  {
   "cell_type": "code",
   "execution_count": 16,
   "id": "2e552aa8",
   "metadata": {},
   "outputs": [
    {
     "data": {
      "text/plain": [
       "1.1630228414969253"
      ]
     },
     "execution_count": 16,
     "metadata": {},
     "output_type": "execute_result"
    }
   ],
   "source": [
    "ex1.calcul_R()"
   ]
  },
  {
   "cell_type": "markdown",
   "id": "821d960b",
   "metadata": {},
   "source": [
    "# Exercice2 POO"
   ]
  },
  {
   "cell_type": "code",
   "execution_count": 37,
   "id": "ece41158",
   "metadata": {},
   "outputs": [],
   "source": [
    "import numpy as np\n",
    "import random\n",
    "\n",
    "class Data_trans:\n",
    "    def __init__(self, n, s):\n",
    "        self.n=n\n",
    "        self.s=s\n",
    "        self.D = [[random.randint(0,50) for i in range(s)] for j in range(n)]\n",
    "        self.minimum = 0\n",
    "        self.maximum = 0\n",
    "        self.list_min=0\n",
    "        self.list_max=0\n",
    "        self.i=0\n",
    "        self.j=0\n",
    "\n",
    "    #la fonction permettant de nous donner le min et max de notre sous liste\n",
    "    def minmax(self, x):\n",
    "        self.minimum = x[0]\n",
    "        self.maximum = x[0]\n",
    "        for i in x[1:]:\n",
    "            if i < self.minimum: \n",
    "                self.minimum = i \n",
    "            else: \n",
    "                if i > self.maximum: \n",
    "                    self.maximum = i\n",
    "        return self.minimum,self.maximum\n",
    "\n",
    "    def inter(self):\n",
    "        self.list_min=[self.minmax(self.D[i])[0] for i in range(self.n)]\n",
    "        self.list_max=[self.minmax(self.D[i])[1] for i in range(self.n)]\n",
    "        return self.list_min, self.list_max\n",
    "    \n",
    "    def min_globale(self):\n",
    "        self.inter()\n",
    "        min_glob=min(self.list_min)\n",
    "        return min_glob\n",
    "    #Le maximun global\n",
    "    def max_globale(self):\n",
    "        self.inter()\n",
    "        max_glob=max(self.list_max)\n",
    "        \n",
    "        return max_glob\n",
    "    \n",
    "    #Calculer D’ = f(D), c’est-à-dire f appliquée à tous les éléments de D\n",
    "    def f(self,x):\n",
    "        \n",
    "        fct=x**3 + (3)*x**2 -5 \n",
    "        return fct\n",
    "             \n",
    "\n",
    "   #fonction D'\n",
    "    def fonc_Dprim(self, i, j):\n",
    "        self.i=i\n",
    "        self.j=j\n",
    "        D_prim=[[self.D[i][j] for i in range(self.n)] for j in range(self.s)]\n",
    "        D_prim.append(self.D[i][j])\n",
    "            \n",
    "        return D_prim\n",
    "    \n"
   ]
  },
  {
   "cell_type": "code",
   "execution_count": 38,
   "id": "f6e0bc2f",
   "metadata": {},
   "outputs": [],
   "source": [
    "data=Data_trans(6, 4)"
   ]
  },
  {
   "cell_type": "code",
   "execution_count": null,
   "id": "da131b2d",
   "metadata": {},
   "outputs": [],
   "source": [
    "print(data.f(3))"
   ]
  },
  {
   "cell_type": "code",
   "execution_count": null,
   "id": "bedd6da9",
   "metadata": {},
   "outputs": [],
   "source": [
    "for l in data.D:\n",
    "    print(data.minmax(l))"
   ]
  },
  {
   "cell_type": "code",
   "execution_count": null,
   "id": "3f78f7ef",
   "metadata": {},
   "outputs": [],
   "source": [
    "print(data.max_globale())"
   ]
  },
  {
   "cell_type": "code",
   "execution_count": null,
   "id": "f5153c74",
   "metadata": {},
   "outputs": [],
   "source": [
    "print(data.fonc_Dprim(0,0))"
   ]
  },
  {
   "cell_type": "markdown",
   "id": "f3551860",
   "metadata": {},
   "source": [
    "# Exercice2"
   ]
  },
  {
   "cell_type": "code",
   "execution_count": null,
   "id": "1ff0305a",
   "metadata": {},
   "outputs": [],
   "source": [
    "n=6\n",
    "s=4\n",
    "D = [[random.randint(0,50) for i in range(s)] for j in range(n)]\n",
    "D"
   ]
  },
  {
   "cell_type": "code",
   "execution_count": null,
   "id": "6bfe695a",
   "metadata": {},
   "outputs": [],
   "source": [
    "def minmax (x):\n",
    "    minimum = maximum = x[0]\n",
    "    for i in x[1:]:\n",
    "        if i < minimum: \n",
    "            minimum = i \n",
    "        else: \n",
    "            if i > maximum: \n",
    "                maximum = i\n",
    "    return (minimum,maximum)\n",
    "         \n",
    "print(minmax(D[0]))"
   ]
  },
  {
   "cell_type": "code",
   "execution_count": null,
   "id": "73ae4b2e",
   "metadata": {},
   "outputs": [],
   "source": [
    "list_min=[minmax(D[i])[0] for i in range(n)]\n",
    "list_max=[minmax(D[i])[1] for i in range(n)]\n",
    "\n",
    "list_min\n",
    "list_max"
   ]
  },
  {
   "cell_type": "code",
   "execution_count": null,
   "id": "77af1163",
   "metadata": {},
   "outputs": [],
   "source": [
    "#Le minimun global\n",
    "min_glob=minmax(list_min)\n",
    "min_glob=min_glob[0]\n",
    "min_glob"
   ]
  },
  {
   "cell_type": "code",
   "execution_count": null,
   "id": "1b78c883",
   "metadata": {},
   "outputs": [],
   "source": [
    "#Le maximun global\n",
    "max_glob=minmax(list_max)\n",
    "max_glob=max_glob[1]\n",
    "max_glob"
   ]
  },
  {
   "cell_type": "code",
   "execution_count": 12,
   "id": "90c5d40c",
   "metadata": {},
   "outputs": [
    {
     "data": {
      "text/plain": [
       "-1"
      ]
     },
     "execution_count": 12,
     "metadata": {},
     "output_type": "execute_result"
    }
   ],
   "source": [
    "#Calculer D’ = f(D), c’est-à-dire f appliquée à tous les éléments de D\n",
    "def f(x):\n",
    "    fct=x**3 + (3)*x**2 -5 \n",
    "    return fct\n",
    "f(1)"
   ]
  },
  {
   "cell_type": "code",
   "execution_count": null,
   "id": "55e722ae",
   "metadata": {},
   "outputs": [],
   "source": [
    "s=0\n",
    "j=0\n",
    "i=0\n",
    "D_prim=[[D[i][j] for i in range(n)] for j in range(s)]\n",
    "D_prim.append(D[i][j])\n",
    "    \n",
    "D_prim "
   ]
  },
  {
   "cell_type": "markdown",
   "id": "ddd37d8a",
   "metadata": {},
   "source": [
    "# Exercice"
   ]
  },
  {
   "cell_type": "code",
   "execution_count": null,
   "id": "42d04a2b",
   "metadata": {},
   "outputs": [],
   "source": [
    "#Une application console qui permet de faire des opérations basics en python\n",
    "print('Quelle opération voulez-vous effectuer?')\n",
    "\n",
    "while True:\n",
    "    n=(input('Taper 1 pour vous rendre sur le programme de Exo1 et Pour le programme de Exo2 : '))\n",
    "    if n==\"1\":\n",
    "        print(\"Bienvenu dans l'exercice 1\")\n",
    "        N= input(\"Veuillez saisir un entier naturel quelconque: \")\n",
    "\n",
    "        try : \n",
    "            v= int(N)\n",
    "            if v >0 :\n",
    "                N= v\n",
    "            else :\n",
    "                print(\"Saisie Incorrecte\")\n",
    "        except: \n",
    "               print(\"Saisie incorrecte\")\n",
    "\n",
    "        R=0\n",
    "        f= lambda x: x/(x**2+1) \n",
    "        g= lambda x: np.arctan(x)\n",
    "\n",
    "\n",
    "        def calcul_R(n):\n",
    "            L = list(range(-N,N+1))\n",
    "            return sum([((x/(x**2+1))-(np.arctan(x)))**2 for x in L])\n",
    "        print(\"le resultat est:\",calcul_R(n))\n",
    "\n",
    "    elif n==\"2\":\n",
    "        print(\"Bienvenue dans l'exercice 2\")\n",
    "        n=6\n",
    "        s=4\n",
    "        D = [[random.randint(0,50) for i in range(s)] for j in range(n)]\n",
    "        p=input('Si vous voulez voir la liste, tapez y: ')\n",
    "        if p=='y':\n",
    "            print(\"voici la liste\", D)\n",
    "            print(\"vous voulez voir le min et max de cette liste?\")\n",
    "            while True:\n",
    "                z=input(\"Tapez M pour voir le max de chaque liste, m le min de chaque liste ou tapez non pour passer: \")\n",
    "                if z=='m':\n",
    "                    print(\"voici le min de la liste\",list_min)\n",
    "                elif z=='M':\n",
    "                    print(\"voici le max de la liste\",list_max)\n",
    "                elif z=='non':\n",
    "                    print('')\n",
    "                     break\n",
    "                    \n",
    "                k=input(\"Tapez G pour voir le max globale, g le min globale ou tapez non pour passer: \")\n",
    "                if k=='g':\n",
    "                    print(\"voici le min de la liste\",min_glob)\n",
    "                elif k=='G':\n",
    "                    print(\"voici le max de la liste\",max_glob)\n",
    "                elif k=='non':\n",
    "                    print('')\n",
    "                    break\n",
    "                \n",
    "        else:\n",
    "            print(\"RAS\")\n",
    "             \n",
    "    if n==\"q\":\n",
    "        \n",
    "        print('Fin du programme!')\n",
    "        break"
   ]
  },
  {
   "cell_type": "markdown",
   "id": "5c936c59",
   "metadata": {},
   "source": [
    "# Exercice4"
   ]
  },
  {
   "cell_type": "code",
   "execution_count": 27,
   "id": "daa31fba",
   "metadata": {},
   "outputs": [
    {
     "name": "stdout",
     "output_type": "stream",
     "text": [
      "[11, 43, 99, 91, 93, 75, 11, 79, 64, 78, 87, 57, 53, 5, 11, 82, 77, 4, 59, 12, 43, 86, 9, 70, 98, 92, 45, 58, 93, 38, 60, 55, 76, 78, 48, 17, 47, 9, 20, 99, 62, 41, 85, 85, 11, 94, 62, 36, 62, 13, 81, 28, 13, 97, 9, 84, 7, 17, 11, 94, 69, 41, 46, 62, 28, 94, 11, 55, 47, 56, 28, 40, 35, 24, 11, 66, 59, 28, 11, 22, 23, 42, 24, 43, 27, 1, 96, 45, 6, 40, 75, 33, 62, 13, 92, 99, 99, 87, 92, 22]\n"
     ]
    }
   ],
   "source": [
    "#Générer aléatoirement les valeurs de L\n",
    "import numpy as np\n",
    "import random\n",
    "#Déclaration de ma liste L\n",
    "L=[]\n",
    "#Remplir la liste L de nombre aléatoire\n",
    "for i in range(100):\n",
    "    L.append(random.randint(0, 99) )\n",
    "    #L.append(random.uniform(0, 99) )\n",
    "print(L)"
   ]
  },
  {
   "cell_type": "code",
   "execution_count": 28,
   "id": "70b0a129",
   "metadata": {},
   "outputs": [
    {
     "name": "stdout",
     "output_type": "stream",
     "text": [
      "la Moyenne de la liste est : 50.78\n"
     ]
    }
   ],
   "source": [
    "#Calculons la moyenne avec la fct mean()\n",
    "print (\"la Moyenne de la liste est :\", np.mean(L))"
   ]
  },
  {
   "cell_type": "code",
   "execution_count": 29,
   "id": "093112e2",
   "metadata": {},
   "outputs": [
    {
     "name": "stdout",
     "output_type": "stream",
     "text": [
      "la Medianne de la liste est : 47.5\n"
     ]
    }
   ],
   "source": [
    "#Calculons la moedianne avec la fct median()\n",
    "print (\"la Medianne de la liste est :\", np.median(L))"
   ]
  },
  {
   "cell_type": "code",
   "execution_count": 30,
   "id": "2103ab3a",
   "metadata": {},
   "outputs": [
    {
     "name": "stdout",
     "output_type": "stream",
     "text": [
      "la Variance de la liste est : 935.3915999999999\n"
     ]
    }
   ],
   "source": [
    "#Calculons la Variance avec la fct var()\n",
    "print (\"la Variance de la liste est :\", np.var(L))"
   ]
  },
  {
   "cell_type": "code",
   "execution_count": 31,
   "id": "4e165de0",
   "metadata": {},
   "outputs": [
    {
     "name": "stdout",
     "output_type": "stream",
     "text": [
      "l'écart type de la liste est : 30.58417237722806\n"
     ]
    }
   ],
   "source": [
    "#Calculons l'ecart-type avec la déviation standart de var() (numpy.std())\n",
    "print (\"l'écart type de la liste est :\", np.std(L))"
   ]
  },
  {
   "cell_type": "code",
   "execution_count": null,
   "id": "145c2b30",
   "metadata": {},
   "outputs": [],
   "source": []
  }
 ],
 "metadata": {
  "kernelspec": {
   "display_name": "Python 3 (ipykernel)",
   "language": "python",
   "name": "python3"
  },
  "language_info": {
   "codemirror_mode": {
    "name": "ipython",
    "version": 3
   },
   "file_extension": ".py",
   "mimetype": "text/x-python",
   "name": "python",
   "nbconvert_exporter": "python",
   "pygments_lexer": "ipython3",
   "version": "3.9.12"
  }
 },
 "nbformat": 4,
 "nbformat_minor": 5
}
