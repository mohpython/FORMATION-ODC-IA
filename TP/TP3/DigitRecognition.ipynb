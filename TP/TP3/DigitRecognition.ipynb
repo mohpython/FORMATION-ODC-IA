{
 "cells": [
  {
   "cell_type": "markdown",
   "id": "8be1ecc2",
   "metadata": {},
   "source": [
    "# Recognizing hand-written digits"
   ]
  },
  {
   "cell_type": "markdown",
   "id": "a316649b",
   "metadata": {},
   "source": [
    "#### Importation des packages"
   ]
  },
  {
   "cell_type": "code",
   "execution_count": 34,
   "id": "f64ad47c",
   "metadata": {},
   "outputs": [],
   "source": [
    "# Standard scientific Python imports\n",
    "import matplotlib.pyplot as plt\n",
    "# Import datasets, classifiers and performance metrics\n",
    "from sklearn import datasets, svm, metrics\n",
    "from sklearn.model_selection import train_test_split"
   ]
  },
  {
   "cell_type": "markdown",
   "id": "bc0b4b7d",
   "metadata": {},
   "source": [
    "### Digits dataset"
   ]
  },
  {
   "cell_type": "markdown",
   "id": "997c6090",
   "metadata": {},
   "source": [
    "### 1. Problematique"
   ]
  },
  {
   "cell_type": "markdown",
   "id": "ff94d722",
   "metadata": {},
   "source": [
    "Recognizing handwritten est un problème de classification"
   ]
  },
  {
   "cell_type": "markdown",
   "id": "697ebebc",
   "metadata": {},
   "source": [
    "Dans ce projet, nous utilisons le jeu de données Handwritten Digits qui est déjà prêt dans la bibliothèque sklearn. nous pouvons importer l'ensemble de données en utilisant le code ci-dessous."
   ]
  },
  {
   "cell_type": "markdown",
   "id": "a52d4986",
   "metadata": {},
   "source": [
    "### Exploration de données"
   ]
  },
  {
   "cell_type": "raw",
   "id": "75097967",
   "metadata": {},
   "source": [
    "Nous allons charger les données et visualiser les images"
   ]
  },
  {
   "cell_type": "markdown",
   "id": "2307b6e2",
   "metadata": {},
   "source": [
    "Chaque point de données est une image 8x8 d'un chiffre.\n",
    "<img src =\"image.png\">"
   ]
  },
  {
   "cell_type": "code",
   "execution_count": 35,
   "id": "74b200ff",
   "metadata": {},
   "outputs": [],
   "source": [
    "digits = datasets.load_digits()"
   ]
  },
  {
   "cell_type": "code",
   "execution_count": 36,
   "id": "6dfcc836",
   "metadata": {},
   "outputs": [
    {
     "name": "stdout",
     "output_type": "stream",
     "text": [
      "(1797, 8, 8)\n",
      "(10,)\n"
     ]
    }
   ],
   "source": [
    "print(digits.images.shape)\n",
    "print(digits.target_names.shape)\n",
    "#print(digits.images.min())"
   ]
  },
  {
   "cell_type": "markdown",
   "id": "e028df4c",
   "metadata": {},
   "source": [
    "En python, la dir fonction renvoie les noms des attributs d'un objet, c'est-à-dire quelles informations sont stockées dans l'objet sous la forme d'autres objets. Utilisons cette fonction pour vérifier ce qui peut être trouvé dans l'objet digits :"
   ]
  },
  {
   "cell_type": "code",
   "execution_count": 37,
   "id": "38a0ebc8",
   "metadata": {},
   "outputs": [
    {
     "data": {
      "text/plain": [
       "['DESCR', 'data', 'feature_names', 'frame', 'images', 'target', 'target_names']"
      ]
     },
     "execution_count": 37,
     "metadata": {},
     "output_type": "execute_result"
    }
   ],
   "source": [
    "dir(digits)"
   ]
  },
  {
   "cell_type": "code",
   "execution_count": 38,
   "id": "89248f01",
   "metadata": {},
   "outputs": [
    {
     "data": {
      "text/plain": [
       "(1797, 8, 8)"
      ]
     },
     "execution_count": 38,
     "metadata": {},
     "output_type": "execute_result"
    }
   ],
   "source": [
    "# print type(digits.images)\n",
    "# print type(digits.target)\n",
    "digits.images.shape"
   ]
  },
  {
   "cell_type": "code",
   "execution_count": 39,
   "id": "43714b7b",
   "metadata": {},
   "outputs": [
    {
     "name": "stdout",
     "output_type": "stream",
     "text": [
      "(8, 8)\n"
     ]
    }
   ],
   "source": [
    "print (digits.images[0].shape)"
   ]
  },
  {
   "cell_type": "code",
   "execution_count": 40,
   "id": "a69faec1",
   "metadata": {},
   "outputs": [
    {
     "data": {
      "text/plain": [
       "<matplotlib.image.AxesImage at 0x2347f802af0>"
      ]
     },
     "execution_count": 40,
     "metadata": {},
     "output_type": "execute_result"
    },
    {
     "data": {
      "text/plain": [
       "<Figure size 640x480 with 0 Axes>"
      ]
     },
     "metadata": {},
     "output_type": "display_data"
    },
    {
     "data": {
      "image/png": "[encoded data removed]",
      "text/plain": [
       "<Figure size 480x480 with 1 Axes>"
      ]
     },
     "metadata": {},
     "output_type": "display_data"
    }
   ],
   "source": [
    "#Affichons une image voir\n",
    "plt.gray()\n",
    "plt.matshow(digits.images[0])"
   ]
  },
  {
   "cell_type": "code",
   "execution_count": 41,
   "id": "1987a674",
   "metadata": {},
   "outputs": [
    {
     "data": {
      "image/png": "[encoded data removed]",
      "text/plain": [
       "<Figure size 1000x300 with 4 Axes>"
      ]
     },
     "metadata": {},
     "output_type": "display_data"
    }
   ],
   "source": [
    "digits = datasets.load_digits()\n",
    "\n",
    "_, axes = plt.subplots(nrows=1, ncols=4, figsize=(10, 3))\n",
    "for ax, image, label in zip(axes, digits.images, digits.target):\n",
    "    ax.set_axis_off()\n",
    "    ax.imshow(image, cmap=plt.cm.gray_r,  interpolation=\"nearest\")\n",
    "    ax.set_title(\"Training: %i\" % label)"
   ]
  },
  {
   "cell_type": "code",
   "execution_count": 42,
   "id": "7aa8c3eb",
   "metadata": {},
   "outputs": [],
   "source": [
    "digits = datasets.load_digits(n_class=6)\n",
    "X, y = digits.data, digits.target\n",
    "n_samples, n_features = X.shape\n",
    "n_neighbors = 30"
   ]
  },
  {
   "cell_type": "code",
   "execution_count": 43,
   "id": "28389e33",
   "metadata": {},
   "outputs": [
    {
     "data": {
      "image/png": "[encoded data removed]",
      "text/plain": [
       "<Figure size 600x600 with 100 Axes>"
      ]
     },
     "metadata": {},
     "output_type": "display_data"
    }
   ],
   "source": [
    "#Exemple\n",
    "#CMRmap_r', 'Dark2', 'Dark2_r', 'GnBu', 'GnBu_r', 'Greens', vmin=0, vmax=100\n",
    "fig, axs = plt.subplots(nrows=10, ncols=10, figsize=(6, 6))\n",
    "for idx, ax in enumerate(axs.ravel()):\n",
    "    ax.imshow(X[idx].reshape((8, 8)), cmap='CMRmap_r', )\n",
    "    ax.axis(\"off\")\n",
    "_ = fig.suptitle(\"A selection from the 64-dimensional digits dataset\", fontsize=16)"
   ]
  },
  {
   "cell_type": "markdown",
   "id": "78b95241",
   "metadata": {},
   "source": [
    "# Les Détails de l'apprentisage"
   ]
  },
  {
   "cell_type": "markdown",
   "id": "7b4bf89a",
   "metadata": {},
   "source": [
    "### Pre-Processing"
   ]
  },
  {
   "cell_type": "code",
   "execution_count": 44,
   "id": "51602f8c",
   "metadata": {},
   "outputs": [],
   "source": [
    "# flatten the images\n",
    "n_samples = len(digits.images)\n",
    "data = digits.images.reshape((n_samples, -1))"
   ]
  },
  {
   "cell_type": "markdown",
   "id": "fb2a3d0d",
   "metadata": {},
   "source": [
    "### Modele"
   ]
  },
  {
   "cell_type": "code",
   "execution_count": 45,
   "id": "a7d4605e",
   "metadata": {},
   "outputs": [],
   "source": [
    "# Create a classifier: a support vector classifier\n",
    "clf = svm.SVC(gamma=0.001)\n",
    "\n",
    "# Split data into 50% train and 50% test subsets\n",
    "X_train, X_test, y_train, y_test = train_test_split(\n",
    "    data, digits.target, test_size=0.5, shuffle=False\n",
    ")\n",
    "\n",
    "# Learn the digits on the train subset\n",
    "clf.fit(X_train, y_train)\n",
    "\n",
    "# Predict the value of the digit on the test subset\n",
    "predicted = clf.predict(X_test)"
   ]
  },
  {
   "cell_type": "code",
   "execution_count": 46,
   "id": "9060349c",
   "metadata": {},
   "outputs": [
    {
     "data": {
      "image/png": "[encoded data removed]",
      "text/plain": [
       "<Figure size 1000x300 with 4 Axes>"
      ]
     },
     "metadata": {},
     "output_type": "display_data"
    }
   ],
   "source": [
    "_, axes = plt.subplots(nrows=1, ncols=4, figsize=(10, 3))\n",
    "for ax, image, prediction in zip(axes, X_test, predicted):\n",
    "    ax.set_axis_off()\n",
    "    image = image.reshape(8, 8)\n",
    "    ax.imshow(image, cmap=plt.cm.gray_r, interpolation=\"nearest\")\n",
    "    ax.set_title(f\"Prediction: {prediction}\")"
   ]
  },
  {
   "cell_type": "markdown",
   "id": "03fedc7a",
   "metadata": {},
   "source": [
    "# Les métriques d’évaluation"
   ]
  },
  {
   "cell_type": "markdown",
   "id": "363cd3fc",
   "metadata": {},
   "source": [
    "Cas multi-classe : une probabilité est prédite pour chaque classe. Exemple : chaque image a une certaine probabilité d’être 0, 1 etc..."
   ]
  },
  {
   "cell_type": "code",
   "execution_count": 47,
   "id": "fb42c04e",
   "metadata": {},
   "outputs": [
    {
     "name": "stdout",
     "output_type": "stream",
     "text": [
      "Classification report for classifier SVC(gamma=0.001):\n",
      "              precision    recall  f1-score   support\n",
      "\n",
      "           0       1.00      0.99      0.99        88\n",
      "           1       0.99      0.98      0.98        91\n",
      "           2       0.97      0.98      0.97        86\n",
      "           3       0.98      0.95      0.96        91\n",
      "           4       0.99      0.97      0.98        93\n",
      "           5       0.94      1.00      0.97        93\n",
      "\n",
      "    accuracy                           0.98       542\n",
      "   macro avg       0.98      0.98      0.98       542\n",
      "weighted avg       0.98      0.98      0.98       542\n",
      "\n",
      "\n"
     ]
    }
   ],
   "source": [
    "print(\n",
    "    f\"Classification report for classifier {clf}:\\n\"\n",
    "    f\"{metrics.classification_report(y_test, predicted)}\\n\"\n",
    ")"
   ]
  },
  {
   "cell_type": "markdown",
   "id": "3a27fd84",
   "metadata": {},
   "source": [
    "## Matrice de Confusion"
   ]
  },
  {
   "cell_type": "markdown",
   "id": "3ee08d05",
   "metadata": {},
   "source": [
    "Comme la prédiction multi-classe ne repose pas sur un seuil de classification, elle possède une unique matrice de confusion standard du modèle, à la différence du cas binaire où de nombreuses matrices de confusion sont possibles (selon la valeur du seuil). Cette matrice est organisée de la même façon que la matrice de confusion binaire, avec en ligne les labels prédits et en colonne les labels réels. Seulement, au lieu d’avoir 2 lignes et 2 colonnes (classes 0 et 1), la matrice de confusion multi-classe a $n_{class}$ lignes et $n_{class}$ colonnes où $n_{class}$ est le nombre de classes du problème."
   ]
  },
  {
   "cell_type": "code",
   "execution_count": 48,
   "id": "718c54d2",
   "metadata": {},
   "outputs": [
    {
     "name": "stdout",
     "output_type": "stream",
     "text": [
      "Confusion matrix:\n",
      "[[87  0  0  0  1  0]\n",
      " [ 0 89  1  0  0  1]\n",
      " [ 0  0 84  2  0  0]\n",
      " [ 0  0  2 86  0  3]\n",
      " [ 0  1  0  0 90  2]\n",
      " [ 0  0  0  0  0 93]]\n"
     ]
    },
    {
     "data": {
      "image/png": "[encoded data removed]",
      "text/plain": [
       "<Figure size 640x480 with 2 Axes>"
      ]
     },
     "metadata": {},
     "output_type": "display_data"
    }
   ],
   "source": [
    "disp = metrics.ConfusionMatrixDisplay.from_predictions(y_test, predicted, cmap='inferno')\n",
    "disp.figure_.suptitle(\"Confusion Matrix\")\n",
    "print(f\"Confusion matrix:\\n{disp.confusion_matrix}\")\n",
    "plt.show()"
   ]
  },
  {
   "cell_type": "markdown",
   "id": "88ceca78",
   "metadata": {},
   "source": [
    "Les faux négatifs se trouvent dans les colonnes (predict label) associées à chaque classe et les faux positifs se trouvent dans les lignes (prédiction) associées à chaque classe."
   ]
  },
  {
   "cell_type": "code",
   "execution_count": null,
   "id": "498a3675",
   "metadata": {},
   "outputs": [],
   "source": []
  }
 ],
 "metadata": {
  "kernelspec": {
   "display_name": "Python 3 (ipykernel)",
   "language": "python",
   "name": "python3"
  },
  "language_info": {
   "codemirror_mode": {
    "name": "ipython",
    "version": 3
   },
   "file_extension": ".py",
   "mimetype": "text/x-python",
   "name": "python",
   "nbconvert_exporter": "python",
   "pygments_lexer": "ipython3",
   "version": "3.9.13"
  }
 },
 "nbformat": 4,
 "nbformat_minor": 5
}
